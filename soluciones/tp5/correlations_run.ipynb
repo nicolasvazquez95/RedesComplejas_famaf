{
 "cells": [
  {
   "cell_type": "code",
   "execution_count": 1,
   "id": "83599a26-4911-4370-87bf-c14b86947424",
   "metadata": {},
   "outputs": [],
   "source": [
    "import pickle\n",
    "import numpy as np\n",
    "import networkx as nx\n",
    "\n",
    "from tqdm import tqdm\n",
    "from loky import ProcessPoolExecutor"
   ]
  },
  {
   "cell_type": "code",
   "execution_count": 2,
   "id": "2e76b7dd-0bf5-45a9-b73c-a92826835e68",
   "metadata": {},
   "outputs": [],
   "source": [
    "def C_experiment(g,s):\n",
    "    C = {}\n",
    "    MAX_VALUE = 20 # Máxima distancia a la que vamos a calcular la función de correlación\n",
    "    for r in range(MAX_VALUE):\n",
    "            C[r] = []\n",
    "    g_nx = nx.Graph(incoming_graph_data=g)\n",
    "    spl = nx.shortest_path_length(g_nx)\n",
    "     # Vamos a samplear hasta esta distancia entre pares \n",
    "    for x in spl:    \n",
    "        i,l = x\n",
    "        if i == 250:\n",
    "            break\n",
    "        NL_i = []\n",
    "        for r in range(MAX_VALUE):\n",
    "            n_ir = []\n",
    "            for key,value in l.items():\n",
    "                if value==r:\n",
    "                    n_ir.append(key)\n",
    "            NL_i.append((r,n_ir))\n",
    "        NL_i = dict(NL_i)\n",
    "        for r in range(MAX_VALUE):\n",
    "            n_ir = NL_i[r]\n",
    "            for n in n_ir:\n",
    "                C[r].append(s[i] * s[n])\n",
    "    return C"
   ]
  },
  {
   "cell_type": "code",
   "execution_count": 3,
   "id": "8de21bf3-6762-423e-9840-eaf94e9eee56",
   "metadata": {},
   "outputs": [],
   "source": [
    "def concat_dicts(list_of_dicts):\n",
    "    C = list_of_dicts[0].copy()\n",
    "    for dicts in list_of_dicts[1:]:\n",
    "        for key in C.keys():\n",
    "            # Esto es porque sabemos que el value de los diccionarios es una lista\n",
    "            C[key].extend(dicts[key])\n",
    "    return C"
   ]
  },
  {
   "cell_type": "code",
   "execution_count": 15,
   "id": "12fc9a78-cf0d-49c4-8ac2-ec8a92946e2f",
   "metadata": {},
   "outputs": [
    {
     "name": "stderr",
     "output_type": "stream",
     "text": [
      "100%|███████████████████████████████████████████████████████████████████████████████████| 16/16 [07:28<00:00, 28.05s/it]\n"
     ]
    }
   ],
   "source": [
    "with open('ising_p001_16runs','rb') as f:\n",
    "    p001 = pickle.load(f)\n",
    "\n",
    "graphs = [experiment[0] for experiment in p001]\n",
    "spins = [experiment[1] for experiment in p001]\n",
    "\n",
    "with ProcessPoolExecutor() as e:\n",
    "    C_p001 = list(tqdm(e.map(C_experiment,graphs,spins),total=len(p001)))\n",
    "\n",
    "C_p001 = concat_dicts(C_p001)\n",
    "\n",
    "with open('C_p001','wb') as f_001:\n",
    "    pickle.dump(C_p001,f_001)"
   ]
  },
  {
   "cell_type": "code",
   "execution_count": 16,
   "id": "dfcfe3a3-806b-40b2-9553-05fd5c16b295",
   "metadata": {},
   "outputs": [
    {
     "name": "stderr",
     "output_type": "stream",
     "text": [
      "100%|███████████████████████████████████████████████████████████████████████████████████| 16/16 [07:22<00:00, 27.69s/it]\n"
     ]
    }
   ],
   "source": [
    "with open('ising_p002_16runs','rb') as f:\n",
    "    p002 = pickle.load(f)\n",
    "    \n",
    "graphs = [experiment[0] for experiment in p002]\n",
    "spins = [experiment[1] for experiment in p002]\n",
    "\n",
    "with ProcessPoolExecutor() as e:\n",
    "    C_p002 = list(tqdm(e.map(C_experiment,graphs,spins),total=len(p002)))\n",
    "\n",
    "C_p002 = concat_dicts(C_p002)\n",
    "\n",
    "with open('C_p002','wb') as f_002:\n",
    "    pickle.dump(C_p002,f_002)"
   ]
  },
  {
   "cell_type": "code",
   "execution_count": 17,
   "id": "e9878938-c242-4220-b4e0-89bbc8a7a63f",
   "metadata": {},
   "outputs": [
    {
     "name": "stderr",
     "output_type": "stream",
     "text": [
      "100%|███████████████████████████████████████████████████████████████████████████████████| 16/16 [08:00<00:00, 30.03s/it]\n"
     ]
    }
   ],
   "source": [
    "with open('ising_p004_16runs','rb') as f:\n",
    "    p004 = pickle.load(f)\n",
    "    \n",
    "graphs = [experiment[0] for experiment in p004]\n",
    "spins = [experiment[1] for experiment in p004]\n",
    "\n",
    "with ProcessPoolExecutor() as e:\n",
    "    C_p004 = list(tqdm(e.map(C_experiment,graphs,spins),total=len(p004)))\n",
    "    \n",
    "C_p004 = concat_dicts(C_p004)\n",
    "\n",
    "with open('C_p004','wb') as f_004:\n",
    "    pickle.dump(C_p004,f_004)"
   ]
  },
  {
   "cell_type": "code",
   "execution_count": 6,
   "id": "8422a707-2998-49b2-ac97-be3afc076388",
   "metadata": {},
   "outputs": [
    {
     "name": "stderr",
     "output_type": "stream",
     "text": [
      "100%|███████████████████████████████████████████████████████████████████████████████████| 16/16 [08:06<00:00, 30.42s/it]\n"
     ]
    }
   ],
   "source": [
    "with open('ising_p006_16runs','rb') as f:\n",
    "    p006 = pickle.load(f)\n",
    "    \n",
    "graphs = [experiment[0] for experiment in p006]\n",
    "spins = [experiment[1] for experiment in p006]\n",
    "\n",
    "with ProcessPoolExecutor() as e:\n",
    "    C_p006 = list(tqdm(e.map(C_experiment,graphs,spins),total=len(p006)))\n",
    "\n",
    "C_p006 = concat_dicts(C_p006)\n",
    "with open('C_p006','wb') as f_006:\n",
    "    pickle.dump(C_p006,f_006)"
   ]
  },
  {
   "cell_type": "code",
   "execution_count": 7,
   "id": "0f492c10-ba7d-418f-b6fa-de003bd56454",
   "metadata": {},
   "outputs": [
    {
     "name": "stderr",
     "output_type": "stream",
     "text": [
      "100%|███████████████████████████████████████████████████████████████████████████████████| 16/16 [08:07<00:00, 30.50s/it]\n"
     ]
    }
   ],
   "source": [
    "with open('ising_p010_16runs','rb') as f:\n",
    "    p010 = pickle.load(f)\n",
    "    \n",
    "graphs = [experiment[0] for experiment in p010]\n",
    "spins = [experiment[1] for experiment in p010]\n",
    "\n",
    "with ProcessPoolExecutor() as e:\n",
    "    C_p010 = list(tqdm(e.map(C_experiment,graphs,spins),total=len(p010)))\n",
    "\n",
    "C_p010 = concat_dicts(C_p010)\n",
    "\n",
    "with open('C_p010','wb') as f_010:\n",
    "    pickle.dump(C_p010,f_010)"
   ]
  }
 ],
 "metadata": {
  "kernelspec": {
   "display_name": "Python(FAMAF)",
   "language": "python",
   "name": "famaf"
  },
  "language_info": {
   "codemirror_mode": {
    "name": "ipython",
    "version": 3
   },
   "file_extension": ".py",
   "mimetype": "text/x-python",
   "name": "python",
   "nbconvert_exporter": "python",
   "pygments_lexer": "ipython3",
   "version": "3.10.11"
  }
 },
 "nbformat": 4,
 "nbformat_minor": 5
}
