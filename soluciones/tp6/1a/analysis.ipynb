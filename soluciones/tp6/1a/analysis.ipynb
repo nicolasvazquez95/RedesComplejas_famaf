{
 "cells": [
  {
   "cell_type": "code",
   "execution_count": 22,
   "id": "4d9d5a0f-49b0-47ea-8a0e-959a38f8c261",
   "metadata": {},
   "outputs": [],
   "source": [
    "using DelimitedFiles: readdlm,writedlm\n",
    "using Plots\n",
    "using LaTeXStrings\n",
    "using Interpolations\n",
    "using Statistics"
   ]
  },
  {
   "cell_type": "code",
   "execution_count": 27,
   "id": "5883b693-7413-4c6f-a9c4-a78db16ea4e6",
   "metadata": {},
   "outputs": [
    {
     "data": {
      "text/plain": [
       "read_data (generic function with 1 method)"
      ]
     },
     "execution_count": 27,
     "metadata": {},
     "output_type": "execute_result"
    }
   ],
   "source": [
    "function read_data(N::Int,p::Float64)\n",
    "    t = collect(0:0.1:1000)\n",
    "    M = []\n",
    "    for i in 0:99\n",
    "        m = readdlm( \"data/p$(p)_N$(N)_$(i).txt\" )\n",
    "        if !any(isnan.(m))\n",
    "            interpolation = linear_interpolation(m[:,1],m[:,2],extrapolation_bc=Line())(t)\n",
    "            push!(M,interpolation)\n",
    "        else\n",
    "            println(\"NaNs en archivo p$(p)_N$(N)_$(i).txt\")\n",
    "        end\n",
    "    end\n",
    "    matrix_data = permutedims(hcat(M...))\n",
    "    #mean_data = mean(matrix_data,dims=1)\n",
    "    #std_data = std(matrix_data,dims=1)\n",
    "    #vec(mean_data)#,vec(std_data)\n",
    "end"
   ]
  },
  {
   "cell_type": "code",
   "execution_count": 28,
   "id": "94bbef4e",
   "metadata": {},
   "outputs": [],
   "source": [
    "data = read_data(300,0.05)\n",
    "t = collect(0:0.1:1000);"
   ]
  },
  {
   "cell_type": "code",
   "execution_count": 31,
   "id": "e1216ebc-f366-4aa5-8faa-177693b0d2a2",
   "metadata": {},
   "outputs": [
    {
     "data": {
      "text/plain": [
       "\"/mnt/d/Gits/RedesComplejas_famaf/soluciones/tp6/1a/mt_twoexp.png\""
      ]
     },
     "execution_count": 31,
     "metadata": {},
     "output_type": "execute_result"
    }
   ],
   "source": [
    "plot(t,data[1,:],label=\"Experimento 1\",dpi=300)\n",
    "plot!(t,data[2,:],label=\"Experimento 2\",dpi=300)\n",
    "hline!([1],linestyle=:dash,color=\"black\",alpha=0.5,label=\"Sincronización\")\n",
    "\n",
    "xlabel!(L\"t[s]\")\n",
    "ylabel!(L\"m\")\n",
    "savefig(\"mt_twoexp.png\")"
   ]
  },
  {
   "cell_type": "code",
   "execution_count": 39,
   "id": "04915ef0-694e-4953-b93a-6204e54ad0bd",
   "metadata": {},
   "outputs": [],
   "source": [
    "plot(t,vec(mean(data[1:10,:],dims=1)),label=\"Red 1 promediada\",dpi=300)\n",
    "xlabel!(L\"t[s]\")\n",
    "ylabel!(L\"m\")\n",
    "savefig(\"mt_1red_mean.png\");"
   ]
  },
  {
   "cell_type": "code",
   "execution_count": 44,
   "id": "d22463f8-4ae0-4f83-a38b-740b48d34bf1",
   "metadata": {},
   "outputs": [
    {
     "data": {
      "text/plain": [
       "\"/mnt/d/Gits/RedesComplejas_famaf/soluciones/tp6/1a/mt_total.png\""
      ]
     },
     "execution_count": 44,
     "metadata": {},
     "output_type": "execute_result"
    }
   ],
   "source": [
    "plot(t,vec(mean(data,dims=1)),label=\"Promedio sobre todas las redes y realizaciones\",dpi=300)\n",
    "hline!([1],linestyle=:dash,color=\"green\",alpha=0.66,label=\"\")\n",
    "vline!([320],linestyle=:dash,alpha=0.66,label=\"\")\n",
    "scatter!([320],[1],xerr = [20],color=\"green\",label=L\"T=310(20)\\,s\")\n",
    "xlabel!(L\"t[s]\")\n",
    "ylabel!(L\"m\")\n",
    "\n",
    "savefig(\"mt_total.png\")"
   ]
  }
 ],
 "metadata": {
  "kernelspec": {
   "display_name": "Julia 1.9.0",
   "language": "julia",
   "name": "julia-1.9"
  },
  "language_info": {
   "file_extension": ".jl",
   "mimetype": "application/julia",
   "name": "julia",
   "version": "1.9.0"
  }
 },
 "nbformat": 4,
 "nbformat_minor": 5
}
