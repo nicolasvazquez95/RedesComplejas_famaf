{
 "cells": [
  {
   "cell_type": "markdown",
   "id": "409319e4-c539-463b-8b99-208fa1f92d50",
   "metadata": {},
   "source": [
    "# Redes Complejas \n",
    "\n",
    "## Trabajo Práctico 1"
   ]
  },
  {
   "cell_type": "code",
   "execution_count": 1,
   "id": "b8b98e0e-bf81-49f7-9edc-33e74ebf434d",
   "metadata": {},
   "outputs": [],
   "source": [
    "# Imports\n",
    "\n",
    "import networkx as nx\n",
    "import numpy as np\n",
    "from matplotlib import pyplot as plt\n",
    "import pandas as pd\n",
    "import seaborn as sns\n",
    "sns.set_palette('dark')"
   ]
  },
  {
   "cell_type": "markdown",
   "id": "c0109aff-cd89-4e8d-bd13-5b94e8adbe6b",
   "metadata": {},
   "source": [
    "### `usa_airports.net`"
   ]
  },
  {
   "cell_type": "code",
   "execution_count": null,
   "id": "f1989a8a-2686-4912-9626-84392188e3e2",
   "metadata": {},
   "outputs": [],
   "source": []
  }
 ],
 "metadata": {
  "kernelspec": {
   "display_name": "Python (famaf)",
   "language": "python",
   "name": "famaf"
  },
  "language_info": {
   "codemirror_mode": {
    "name": "ipython",
    "version": 3
   },
   "file_extension": ".py",
   "mimetype": "text/x-python",
   "name": "python",
   "nbconvert_exporter": "python",
   "pygments_lexer": "ipython3",
   "version": "3.9.7"
  }
 },
 "nbformat": 4,
 "nbformat_minor": 5
}
