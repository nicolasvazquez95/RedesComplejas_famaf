{
 "cells": [
  {
   "cell_type": "markdown",
   "metadata": {},
   "source": [
    "# Guía 4 - Problema 2"
   ]
  },
  {
   "cell_type": "markdown",
   "metadata": {},
   "source": [
    "## Red Erdös-Rényi"
   ]
  },
  {
   "cell_type": "code",
   "execution_count": null,
   "metadata": {},
   "outputs": [],
   "source": [
    "import random\n",
    "random.seed(42)"
   ]
  },
  {
   "cell_type": "code",
   "execution_count": 2,
   "metadata": {},
   "outputs": [],
   "source": [
    "# Primer caso \n",
    "N = 10000\n",
    "p = 0.01\n",
    "\n",
    "# Creamos lista de nodos\n",
    "nodes = [i for i in range(N)]\n",
    "\n",
    "# Ahora, para cada par de nodos (i,j) posible, evaluamos si hay que generar o no enlace. \n",
    "edges = []\n",
    "\n",
    "for node_i in nodes:\n",
    "    for node_j in range(node_i+1,N): # El +1 es para evitar enlaces de un nodo consigo mismo\n",
    "        if random.random()<p:\n",
    "            edges.append((node_i,node_j))"
   ]
  },
  {
   "cell_type": "markdown",
   "metadata": {},
   "source": [
    "La red entonces está representada como una lista de enlaces, que mediante otros algoritmos puede utilizarse para construir las listas de vecinos, o la matriz de adyacencia.\n",
    "\n",
    "El número de enlaces en la red, dividido el número máximo posible de enlaces que puede haber en un grafo de $N$ nodos, debería dar un valor cercano a $p$ (es una forma de chequear que nuestro algoritmo funciona bien)."
   ]
  },
  {
   "cell_type": "code",
   "execution_count": 3,
   "metadata": {},
   "outputs": [
    {
     "data": {
      "text/plain": [
       "0.009966996699669967"
      ]
     },
     "execution_count": 3,
     "metadata": {},
     "output_type": "execute_result"
    }
   ],
   "source": [
    "import math\n",
    "len(edges)/math.comb(N,2)"
   ]
  },
  {
   "cell_type": "markdown",
   "metadata": {},
   "source": [
    "Para la red más grande de $N=10^5$ vamos a implementar una pequeña paralelización que nos va a agilizar un poco el trabajo con la librería `loky`. La librería `tqdm` nos permite agregar una barra de carga para ver el tiempo restante de ejecución de manera interactiva. "
   ]
  },
  {
   "cell_type": "code",
   "execution_count": 4,
   "metadata": {},
   "outputs": [],
   "source": [
    "from loky import ProcessPoolExecutor\n",
    "from tqdm import tqdm"
   ]
  },
  {
   "cell_type": "code",
   "execution_count": 5,
   "metadata": {},
   "outputs": [
    {
     "name": "stderr",
     "output_type": "stream",
     "text": [
      "100%|██████████| 100000/100000 [02:09<00:00, 770.77it/s]\n"
     ]
    }
   ],
   "source": [
    "# Segundo caso\n",
    "N = 100000\n",
    "p = 0.001\n",
    "\n",
    "# Creamos lista de nodos\n",
    "nodes = [i for i in range(N)]\n",
    "\n",
    "# Ahora, para cada par de nodos (i,j) posible, evaluamos si hay que generar o no enlace. \n",
    "edges = []\n",
    "\n",
    "# Esta función evalúa cuántos nodos j están enlazados con un nodo i (0<i<N, i<j<N). De esta forma no hay enlaces repetidos.\n",
    "def f(node_i):\n",
    "    edges_i = []\n",
    "    for node_j in range(node_i+1,N): \n",
    "        if random.random() < p:\n",
    "            edges_i.append((node_i,node_j))\n",
    "    return edges_i\n",
    "\n",
    "with ProcessPoolExecutor() as e:\n",
    "    edges = list(tqdm(e.map(f,nodes),total=len(nodes)))"
   ]
  },
  {
   "cell_type": "code",
   "execution_count": 7,
   "metadata": {},
   "outputs": [],
   "source": [
    "import numpy as np\n",
    "edges = list(filter(None,edges)) # Eliminamos cualquier lista vacía que haya resultado de evaluar la función f sobre algún nodo\n",
    "edges = np.concatenate(edges) # Concatenamos todos los enlaces en una única lista"
   ]
  },
  {
   "cell_type": "code",
   "execution_count": 8,
   "metadata": {},
   "outputs": [
    {
     "data": {
      "text/plain": [
       "array([[    0,  1293],\n",
       "       [    0,  4444],\n",
       "       [    0,  5101],\n",
       "       ...,\n",
       "       [99922, 99944],\n",
       "       [99951, 99958],\n",
       "       [99994, 99995]])"
      ]
     },
     "execution_count": 8,
     "metadata": {},
     "output_type": "execute_result"
    }
   ],
   "source": [
    "edges"
   ]
  },
  {
   "cell_type": "code",
   "execution_count": 9,
   "metadata": {},
   "outputs": [
    {
     "data": {
      "text/plain": [
       "0.0010002490024900248"
      ]
     },
     "execution_count": 9,
     "metadata": {},
     "output_type": "execute_result"
    }
   ],
   "source": [
    "# Chequeo\n",
    "len(edges)/math.comb(N,2)"
   ]
  },
  {
   "cell_type": "markdown",
   "metadata": {},
   "source": [
    "## Red Barabási-Albert"
   ]
  },
  {
   "cell_type": "markdown",
   "metadata": {},
   "source": [
    "Por la forma en la que se construye la red en el modelo, es conveniente trabajar esta vez con las listas de vecinos para almacenar el grafo.\n",
    "\n",
    "Vamos a empezar con un grafo aleatorio Erdös-Renyi, que cumpla con la condición pedida ($<k> = 4$). Eso se puede pedir eligiendo valores adecuados para los valores de $p$ y el número inicial de nodos en el grafo $n_0$. \n",
    "\n",
    "Estas variables están relacionadas mediante la siguiente ecuación: \n",
    "\n",
    "$$ <k> = n_0 p, $$ cuya validez es mayor a medida que $n_0\\to\\infty$.\n",
    "\n",
    "Por lo tanto, vamos a elegir arbitrariamente $n_0 = N/2$, es decir que si esperamos al final un grafo de $N=10^4$ nodos, vamos a tener 5000 grafos inicialmente en el grafo aleatorio. Con esa elección, nos queda $p = \\frac{2<k>}{N} = \\frac{2\\times 4}{10000} =0.0008$ "
   ]
  },
  {
   "cell_type": "code",
   "execution_count": 78,
   "metadata": {},
   "outputs": [],
   "source": [
    "# Primer caso\n",
    "## Paso 1: Construcción del grafo aleatorio\n",
    "n0 = 5000\n",
    "N = 10000\n",
    "p = 0.0008\n",
    "\n",
    "# Creamos lista de nodos\n",
    "nodes = [i for i in range(n0)]\n",
    "\n",
    "# Ahora, para cada par de nodos (i,j) posible, evaluamos si hay que generar o no enlace. \n",
    "edges = []\n",
    "\n",
    "for node_i in nodes:\n",
    "    for node_j in range(node_i+1,n0): # El +1 es para evitar enlaces de un nodo consigo mismo\n",
    "        if random.random()<p:\n",
    "            edges.append((node_i,node_j))"
   ]
  },
  {
   "cell_type": "code",
   "execution_count": 79,
   "metadata": {},
   "outputs": [],
   "source": [
    "## Paso 2: Traducción de la lista de enlaces a lista de vecinos\n",
    "neighbor_list = {}\n",
    "\n",
    "for i in range(n0):\n",
    "    neighbor_list[i] = []\n",
    "\n",
    "for i,j in edges: \n",
    "    neighbor_list[i].append(j)\n",
    "    neighbor_list[j].append(i)"
   ]
  },
  {
   "cell_type": "code",
   "execution_count": 80,
   "metadata": {},
   "outputs": [
    {
     "name": "stdout",
     "output_type": "stream",
     "text": [
      "Mean degree: 3.9848\n"
     ]
    }
   ],
   "source": [
    "# Calculemos cuál es el grado medio del grafo aleatorio (debería ser algo cercano a 4)\n",
    "k = 0\n",
    "for i in range(len(neighbor_list)):\n",
    "    k += len(neighbor_list[i])\n",
    "\n",
    "print('Mean degree:',k/n0)"
   ]
  },
  {
   "cell_type": "code",
   "execution_count": 81,
   "metadata": {},
   "outputs": [],
   "source": [
    "## Tercer paso: Construcción de la red de Barabási-Albert\n",
    "# Lo primero que tenemos que tener es una función que nos devuelva la probabilidad de que el nodo i sea elegido en el sorteo\n",
    "def get_pi(neighbor_list):\n",
    "    p = []\n",
    "    k_total = sum(len(neighbor_list[i]) for i in range(len(neighbor_list)))\n",
    "    for i in range(len(neighbor_list)):\n",
    "        p.append(len(neighbor_list[i])/k_total)\n",
    "    return p"
   ]
  },
  {
   "cell_type": "code",
   "execution_count": 82,
   "metadata": {},
   "outputs": [
    {
     "data": {
      "text/plain": [
       "0.9999999999999848"
      ]
     },
     "execution_count": 82,
     "metadata": {},
     "output_type": "execute_result"
    }
   ],
   "source": [
    "sum(get_pi(neighbor_list))"
   ]
  },
  {
   "cell_type": "code",
   "execution_count": 83,
   "metadata": {},
   "outputs": [],
   "source": [
    "random_state = np.random.RandomState(42)"
   ]
  },
  {
   "cell_type": "code",
   "execution_count": 84,
   "metadata": {},
   "outputs": [],
   "source": [
    "# Lo segundo que tenemos que hacer es añadir nuevos nodos con m conexiones cada uno, hasta llegar a los N nodos\n",
    "m = 4 \n",
    "for i in range(n0,N):\n",
    "    # Añadimos el nuevo nodo\n",
    "    neighbor_list[i] = []\n",
    "    # Sorteamos los m vecinos de este nuevo nodo con las probabilidades calculadas según la función get_pi\n",
    "    new_neighbors = random_state.choice(list(neighbor_list.keys()),size=m,p=get_pi(neighbor_list))\n",
    "    for new_neighbor in new_neighbors:\n",
    "        neighbor_list[i].append(new_neighbor)\n",
    "        neighbor_list[new_neighbor].append(i)"
   ]
  },
  {
   "cell_type": "code",
   "execution_count": 85,
   "metadata": {},
   "outputs": [
    {
     "data": {
      "text/plain": [
       "10000"
      ]
     },
     "execution_count": 85,
     "metadata": {},
     "output_type": "execute_result"
    }
   ],
   "source": [
    "len(neighbor_list)"
   ]
  },
  {
   "cell_type": "code",
   "execution_count": 93,
   "metadata": {},
   "outputs": [
    {
     "name": "stderr",
     "output_type": "stream",
     "text": [
      "100%|██████████| 50000/50000 [00:34<00:00, 1430.21it/s]\n"
     ]
    }
   ],
   "source": [
    "# Segundo caso \n",
    "## Paso 1: Construcción del grafo aleatorio (los valores están calculados siguiendo el mismo razonamiento que en la red anterior)\n",
    "n0 = 50000\n",
    "N = 100000\n",
    "p = 0.00008\n",
    "\n",
    "# Creamos lista de nodos\n",
    "nodes = [i for i in range(n0)]\n",
    "\n",
    "# Ahora, para cada par de nodos (i,j) posible, evaluamos si hay que generar o no enlace. \n",
    "edges = []\n",
    "\n",
    "# PARALELIZACIÓN: Redefinimos f para el valor n0\n",
    "def f(node_i):\n",
    "    edges_i = []\n",
    "    for node_j in range(node_i+1,n0): \n",
    "        if random.random() < p:\n",
    "            edges_i.append((node_i,node_j))\n",
    "    return edges_i\n",
    "\n",
    "with ProcessPoolExecutor() as e:\n",
    "    edges = list(tqdm(e.map(f,nodes),total=len(nodes)))\n",
    "\n",
    "edges = list(filter(None,edges)) # Eliminamos cualquier lista vacía que haya resultado de evaluar la función f sobre algún nodo\n",
    "edges = np.concatenate(edges) # Concatenamos todos los enlaces en una única lista"
   ]
  },
  {
   "cell_type": "code",
   "execution_count": 96,
   "metadata": {},
   "outputs": [],
   "source": [
    "neighbor_list = {}\n",
    "\n",
    "for i in range(n0):\n",
    "    neighbor_list[i] = []\n",
    "\n",
    "for i,j in edges: \n",
    "    neighbor_list[i].append(j)\n",
    "    neighbor_list[j].append(i)"
   ]
  },
  {
   "cell_type": "code",
   "execution_count": 97,
   "metadata": {},
   "outputs": [
    {
     "name": "stdout",
     "output_type": "stream",
     "text": [
      "Mean degree: 3.97664\n"
     ]
    }
   ],
   "source": [
    "## Paso 2: Traducción de la lista de enlaces a lista de vecinos\n",
    "# Calculemos cuál es el grado medio del grafo aleatorio (debería ser algo cercano a 4)\n",
    "k = 0\n",
    "for i in range(len(neighbor_list)):\n",
    "    k += len(neighbor_list[i])\n",
    "\n",
    "print('Mean degree:',k/n0)"
   ]
  },
  {
   "cell_type": "code",
   "execution_count": 98,
   "metadata": {},
   "outputs": [],
   "source": [
    "## Tercer paso: Construcción de la red de Barabási-Albert (esta parte del trabajo no es paralelizable, puede demorar varios minutos la ejecución)\n",
    "m = 4\n",
    "for i in range(n0,N):\n",
    "    # Añadimos el nuevo nodo\n",
    "    neighbor_list[i] = []\n",
    "    # Sorteamos los m vecinos de este nuevo nodo con las probabilidades calculadas según la función get_pi\n",
    "    new_neighbors = random_state.choice(list(neighbor_list.keys()),size=m,p=get_pi(neighbor_list))\n",
    "    for new_neighbor in new_neighbors:\n",
    "        neighbor_list[i].append(new_neighbor)\n",
    "        neighbor_list[new_neighbor].append(i)"
   ]
  },
  {
   "cell_type": "code",
   "execution_count": 99,
   "metadata": {},
   "outputs": [
    {
     "data": {
      "text/plain": [
       "100000"
      ]
     },
     "execution_count": 99,
     "metadata": {},
     "output_type": "execute_result"
    }
   ],
   "source": [
    "len(neighbor_list)"
   ]
  }
 ],
 "metadata": {
  "kernelspec": {
   "display_name": "Python (FAMAF)",
   "language": "python",
   "name": "famaf"
  },
  "language_info": {
   "codemirror_mode": {
    "name": "ipython",
    "version": 3
   },
   "file_extension": ".py",
   "mimetype": "text/x-python",
   "name": "python",
   "nbconvert_exporter": "python",
   "pygments_lexer": "ipython3",
   "version": "3.8.5"
  }
 },
 "nbformat": 4,
 "nbformat_minor": 4
}
