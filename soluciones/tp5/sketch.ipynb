{
 "cells": [
  {
   "cell_type": "code",
   "execution_count": 169,
   "id": "286ec53a-0a24-4b9d-a6dd-84b4bcd09419",
   "metadata": {},
   "outputs": [],
   "source": [
    "using Random\n",
    "using StatsBase\n",
    "using DelimitedFiles: writedlm, readdlm\n",
    "using ProgressBars"
   ]
  },
  {
   "cell_type": "code",
   "execution_count": null,
   "id": "807d7d10-4158-437f-bcb2-84b9958d29e6",
   "metadata": {},
   "outputs": [],
   "source": [
    "function WS_1D(N::Int,p::Float64,seed::Int)\n",
    "    rng = MersenneTwister(seed)\n",
    "    nl = Dict{Int,Vector{Int32}}()\n",
    "    for i in 2:N-1\n",
    "        nl[i] = []\n",
    "        push!(nl[i],i-1,i+1)\n",
    "    end\n",
    "    nl[1] = [2,N]\n",
    "    nl[N] = [1,N-1]\n",
    "    nodes = collect(1:N)\n",
    "    for i in 1:N\n",
    "        if rand(rng) < p\n",
    "            j = i\n",
    "            while i==j\n",
    "                j = rand(rng,nodes,1)[1]\n",
    "            end\n",
    "            push!(nl[i],j)\n",
    "            push!(nl[j],i)\n",
    "        end\n",
    "    end\n",
    "    nl\n",
    "end"
   ]
  },
  {
   "cell_type": "code",
   "execution_count": null,
   "id": "0d99ca9c-218f-4760-9790-767e916dc6f1",
   "metadata": {},
   "outputs": [],
   "source": [
    "function get_E(nl::Dict{Int,Vector{Int32}},spins::Vector{Int8},i::Int)\n",
    "    E0 = - sum(spins[i] * spins[j] for j in nl[i])\n",
    "    E  = - sum((-spins[i]) * spins[j] for j in nl[i])\n",
    "    E - E0\n",
    "end"
   ]
  },
  {
   "cell_type": "code",
   "execution_count": null,
   "id": "e8da1e56-99d3-4cf0-850f-13ef9279ecae",
   "metadata": {},
   "outputs": [],
   "source": [
    "function Ising(N::Int,p::Float64,t::Int,seed::Int)\n",
    "    rng = MersenneTwister(seed)\n",
    "    nl = WS_1D(N,p,seed)\n",
    "    spins = sample(rng,[-1,1],N)\n",
    "    spins = convert(Vector{Int8},spins)\n",
    "    nodes = collect(1:N)\n",
    "    for t in tqdm(1:t)\n",
    "        i = rand(rng,nodes,1)[1]\n",
    "        ΔE = get_E(nl,spins,i)\n",
    "        if ΔE < 0\n",
    "            spins[i] = - spins[i]\n",
    "        elseif ΔE == 0\n",
    "            if rand(rng) < 0.5\n",
    "                spins[i] = - spins[i]\n",
    "            end\n",
    "        end\n",
    "    end\n",
    "    fname = \"ising_$p\"\n",
    "    open(fname,\"w\") do io\n",
    "        writedlm(io,spins)\n",
    "    end\n",
    "    spins\n",
    "end"
   ]
  },
  {
   "cell_type": "code",
   "execution_count": 170,
   "id": "77f52d87-f0e2-4d5b-9c14-76ba85dc95fe",
   "metadata": {},
   "outputs": [
    {
     "name": "stderr",
     "output_type": "stream",
     "text": [
      "\u001b[32mProgress:   1%|▍                                        |  ETA: 0:25:08\u001b[39m"
     ]
    },
    {
     "ename": "LoadError",
     "evalue": "InterruptException:",
     "output_type": "error",
     "traceback": [
      "InterruptException:",
      "",
      "Stacktrace:",
      " [1] Array",
      "   @ ./boot.jl:477 [inlined]",
      " [2] Array",
      "   @ ./boot.jl:486 [inlined]",
      " [3] Array",
      "   @ ./boot.jl:494 [inlined]",
      " [4] rand",
      "   @ ~/julia-1.9.0/share/julia/stdlib/v1.9/Random/src/Random.jl:282 [inlined]",
      " [5] rand",
      "   @ ~/julia-1.9.0/share/julia/stdlib/v1.9/Random/src/Random.jl:285 [inlined]",
      " [6] macro expansion",
      "   @ ./In[167]:8 [inlined]",
      " [7] macro expansion",
      "   @ ~/.julia/packages/ProgressMeter/sN2xr/src/ProgressMeter.jl:938 [inlined]",
      " [8] Ising(N::Int64, p::Float64, t::Int64, seed::Int64)",
      "   @ Main ./In[167]:7",
      " [9] top-level scope",
      "   @ In[170]:5"
     ]
    }
   ],
   "source": [
    "N = 10000\n",
    "t = 10^10\n",
    "\n",
    "p = 0.01\n",
    "Ising(N,p,t,42)\n",
    "\n",
    "p = 0.02\n",
    "Ising(N,p,t,42)\n",
    "\n",
    "p = 0.04\n",
    "Ising(N,p,t,42)\n",
    "\n",
    "p = 0.06\n",
    "Ising(N,p,t,42)\n",
    "\n",
    "p = 0.1\n",
    "Ising(N,p,t,42)"
   ]
  }
 ],
 "metadata": {
  "kernelspec": {
   "display_name": "Julia 1.9.0",
   "language": "julia",
   "name": "julia-1.9"
  },
  "language_info": {
   "file_extension": ".jl",
   "mimetype": "application/julia",
   "name": "julia",
   "version": "1.9.0"
  }
 },
 "nbformat": 4,
 "nbformat_minor": 5
}
