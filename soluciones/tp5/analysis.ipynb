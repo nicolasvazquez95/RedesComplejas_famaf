{
 "cells": [
  {
   "cell_type": "code",
   "execution_count": 157,
   "id": "d9e89a1a-69f9-41a6-8650-a2d7588fe12f",
   "metadata": {},
   "outputs": [],
   "source": [
    "using DelimitedFiles: readdlm\n",
    "using Plots\n",
    "using Statistics: mean\n",
    "using ProgressMeter: @showprogress\n",
    "using LaTeXStrings"
   ]
  },
  {
   "cell_type": "code",
   "execution_count": 158,
   "id": "11e50488-c190-4241-b0e6-2a9bb967f724",
   "metadata": {},
   "outputs": [],
   "source": [
    "spins_01 = readdlm(\"ising_0.01\",Int8)\n",
    "spins_01 = vec(reshape(spins_01,length(spins_01)))\n",
    "\n",
    "spins_02 = readdlm(\"ising_0.02\",Int8)\n",
    "spins_02 = vec(reshape(spins_02,length(spins_02)))\n",
    "\n",
    "spins_04 = readdlm(\"ising_0.04\",Int8)\n",
    "spins_04 = vec(reshape(spins_04,length(spins_04)))\n",
    "\n",
    "spins_06 = readdlm(\"ising_0.06\",Int8)\n",
    "spins_06 = vec(reshape(spins_06,length(spins_06)))\n",
    "\n",
    "spins_10 = readdlm(\"ising_0.10\",Int8)\n",
    "spins_10 = vec(reshape(spins_10,length(spins_10)));"
   ]
  },
  {
   "cell_type": "code",
   "execution_count": 159,
   "id": "a49161f2-dd26-46ab-a18f-7a8676297466",
   "metadata": {},
   "outputs": [
    {
     "data": {
      "text/plain": [
       "C_r (generic function with 1 method)"
      ]
     },
     "execution_count": 159,
     "metadata": {},
     "output_type": "execute_result"
    }
   ],
   "source": [
    "function C_r(spins::Vector{Int8},rmax::Int)\n",
    "    Cr = zeros(rmax+1)\n",
    "    @showprogress for r in 0:rmax\n",
    "        cr = zeros(length(spins))\n",
    "        for i in 1:length(spins)\n",
    "            j = i+r\n",
    "            if j > length(spins)\n",
    "                j -= length(spins)\n",
    "            end\n",
    "            cr[i] = spins[i]*spins[j]\n",
    "        Cr[r+1] = mean(cr)\n",
    "        end\n",
    "    end\n",
    "    Cr\n",
    "end"
   ]
  },
  {
   "cell_type": "code",
   "execution_count": null,
   "id": "781e3ec7-1055-4b06-9d83-79d8f95b691b",
   "metadata": {},
   "outputs": [],
   "source": [
    "c_001 = C_r(spins_01,1000)\n",
    "c_002 = C_r(spins_02,1000)\n",
    "c_004 = C_r(spins_04,1000)\n",
    "c_006 = C_r(spins_06,1000)\n",
    "c_010 = C_r(spins_10,1000);"
   ]
  },
  {
   "cell_type": "code",
   "execution_count": 171,
   "id": "1de0486f-d9c5-4854-b2fe-d55601493849",
   "metadata": {},
   "outputs": [
    {
     "data": {
      "text/plain": [
       "\"/mnt/d/Gits/RedesComplejas_famaf/soluciones/tp5/Cr_p.png\""
      ]
     },
     "execution_count": 171,
     "metadata": {},
     "output_type": "execute_result"
    }
   ],
   "source": [
    "plot(c_001,label=L\"p=0.01\",xscale=:log10,minorgrid=true,minorticks=10,dpi=300)\n",
    "plot!(c_002,label=L\"p=0.02\")\n",
    "plot!(c_004,label=L\"p=0.04\")\n",
    "plot!(c_006,label=L\"p=0.06\")\n",
    "plot!(c_010,label=L\"p=0.10\")\n",
    "\n",
    "hline!([0.5],color=\"black\",alpha=0.5,linestyle=:dash,label=\"\")\n",
    "\n",
    "xlabel!(L\"r\")\n",
    "ylabel!(L\"C(r,t=10^6)\")\n",
    "xticks!([10^0,10^1,10^2,10^3])\n",
    "savefig(\"Cr_p.png\")"
   ]
  },
  {
   "cell_type": "code",
   "execution_count": 167,
   "id": "7be16943-1103-494b-be24-69fb33ec9c68",
   "metadata": {},
   "outputs": [],
   "source": [
    "p = [0.01,0.02,0.04,0.06,0.10]\n",
    "ξ = [90,45,20,14,10]\n",
    "\n",
    "p_ = collect(0.009:0.00001:0.101);"
   ]
  },
  {
   "cell_type": "code",
   "execution_count": 173,
   "id": "98d5e854-9132-449f-a43b-3525f819d9d5",
   "metadata": {},
   "outputs": [
    {
     "data": {
      "text/plain": [
       "\"/mnt/d/Gits/RedesComplejas_famaf/soluciones/tp5/fit_xip.png\""
      ]
     },
     "execution_count": 173,
     "metadata": {},
     "output_type": "execute_result"
    }
   ],
   "source": [
    "scatter(p,ξ,dpi=300,label=\"Datos\")\n",
    "plot!(p_, 0.9 ./ p_,label=L\"\\xi=cp^{-1}\")\n",
    "xlabel!(L\"p\")\n",
    "ylabel!(L\"\\xi\")\n",
    "savefig(\"fit_xip.png\")"
   ]
  },
  {
   "cell_type": "code",
   "execution_count": 174,
   "id": "f2d28fa5-ad82-4b5c-bb86-6ee6c8ef3442",
   "metadata": {},
   "outputs": [
    {
     "data": {
      "text/plain": [
       "\"/mnt/d/Gits/RedesComplejas_famaf/soluciones/tp5/Cr_p_collapsed.png\""
      ]
     },
     "execution_count": 174,
     "metadata": {},
     "output_type": "execute_result"
    }
   ],
   "source": [
    "plot(collect(1:length(c_001))/90,c_001,label=L\"p=0.01\",dpi=300)\n",
    "plot!(collect(1:length(c_002))/45,c_002,label=L\"p=0.02\")\n",
    "plot!(collect(1:length(c_004))/20,c_004,label=L\"p=0.04\")\n",
    "plot!(collect(1:length(c_006))/14,c_006,label=L\"p=0.06\")\n",
    "plot!(collect(1:length(c_010))/10,c_010,label=L\"p=0.10\")\n",
    "hline!([0.5],color=\"black\",alpha=0.5,linestyle=:dash,label=\"\")\n",
    "\n",
    "xlims!(0,12)\n",
    "xlabel!(L\"r/\\xi\")\n",
    "ylabel!(L\"C(r/\\xi,t=10^6)\")\n",
    "savefig(\"Cr_p_collapsed.png\")"
   ]
  }
 ],
 "metadata": {
  "kernelspec": {
   "display_name": "Julia 1.9.0",
   "language": "julia",
   "name": "julia-1.9"
  },
  "language_info": {
   "file_extension": ".jl",
   "mimetype": "application/julia",
   "name": "julia",
   "version": "1.9.0"
  }
 },
 "nbformat": 4,
 "nbformat_minor": 5
}
