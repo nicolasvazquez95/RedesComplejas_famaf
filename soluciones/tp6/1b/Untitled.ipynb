{
 "cells": [
  {
   "cell_type": "code",
   "execution_count": 370,
   "id": "f117bc7a",
   "metadata": {},
   "outputs": [],
   "source": [
    "p = [0.05,0.1,0.2,0.4]\n",
    "T = [1000,465,140,70]\n",
    "N = 100\n",
    "def l(N,p):\n",
    "    return p*N*(N-1)/2\n",
    "l_300 = [l(N,p_) for p_ in p]"
   ]
  },
  {
   "cell_type": "code",
   "execution_count": 371,
   "id": "7f3ec950",
   "metadata": {},
   "outputs": [],
   "source": [
    "from scipy.optimize import curve_fit\n",
    "import numpy as np"
   ]
  },
  {
   "cell_type": "code",
   "execution_count": 372,
   "id": "9857b8a2",
   "metadata": {},
   "outputs": [
    {
     "name": "stdout",
     "output_type": "stream",
     "text": [
      "[-1.32413077  6.18198096] [0.00950723 0.07803515]\n"
     ]
    }
   ],
   "source": [
    "def f(X,a,b):\n",
    "    return a*X + b\n",
    "popt,pcov = curve_fit(f,np.log10(l_300),np.log10(T))\n",
    "print(popt,np.diag(pcov))"
   ]
  },
  {
   "cell_type": "code",
   "execution_count": 373,
   "id": "dd19f16a",
   "metadata": {},
   "outputs": [
    {
     "data": {
      "text/plain": [
       "1520480.8685347287"
      ]
     },
     "execution_count": 373,
     "metadata": {},
     "output_type": "execute_result"
    }
   ],
   "source": [
    "10**(6.18198096)"
   ]
  }
 ],
 "metadata": {
  "kernelspec": {
   "display_name": "Python(FAMAF)",
   "language": "python",
   "name": "famaf"
  },
  "language_info": {
   "codemirror_mode": {
    "name": "ipython",
    "version": 3
   },
   "file_extension": ".py",
   "mimetype": "text/x-python",
   "name": "python",
   "nbconvert_exporter": "python",
   "pygments_lexer": "ipython3",
   "version": "3.10.11"
  }
 },
 "nbformat": 4,
 "nbformat_minor": 5
}
