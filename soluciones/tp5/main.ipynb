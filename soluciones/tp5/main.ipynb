{
 "cells": [
  {
   "cell_type": "markdown",
   "id": "622d1d00-9b6a-4ccd-8aa4-7c51d4183937",
   "metadata": {},
   "source": [
    "# Problema 2 - Guía 5"
   ]
  },
  {
   "cell_type": "code",
   "execution_count": 1,
   "id": "5a7e5e11-dbdc-4b95-916c-7661ae1a587e",
   "metadata": {},
   "outputs": [],
   "source": [
    "import numpy as np\n",
    "from tqdm import tqdm\n",
    "from loky import ProcessPoolExecutor\n",
    "from itertools import repeat\n",
    "import pickle"
   ]
  },
  {
   "cell_type": "code",
   "execution_count": 2,
   "id": "06cdce0e-9b38-4224-a7c8-81757fa669d9",
   "metadata": {},
   "outputs": [],
   "source": [
    "# Algoritmo para implementar la red\n",
    "class WS_1D(object):\n",
    "    \"\"\"\n",
    "    Implementa una red Watts-Strogatz sobre un anillo, añadiendo conexiones al azar con probabilidad p.\n",
    "    La red se implementa como un diccionario que representa la lista de vecinos del grafo.\n",
    "    Además se retorna un array de spines inicializados aleatoriamente de acuerdo a la semilla.\n",
    "    \"\"\"\n",
    "    # Implementamos los nodos\n",
    "    def __init__(self,p,seed,N=10**5):\n",
    "        nodes = [i for i in range(N)]\n",
    "\n",
    "        neighbors_list = {}\n",
    "\n",
    "        # Vecinos para todos los nodos excepto el primero y el último\n",
    "        for node in nodes[1:-1]:\n",
    "            neighbors_list[node] = [node-1,node+1]\n",
    "        # Fijamos condiciones periódicas\n",
    "        neighbors_list[0] = [1,N-1]\n",
    "        neighbors_list[N-1] = [N-2,0]\n",
    "    \n",
    "        # Ahora agregamos conexiones aleatorias con probabilidad p\n",
    "        ## Inicializamos generador de números aleatorios\n",
    "        random_state = np.random.RandomState(seed)\n",
    "        for i in range(N):\n",
    "            j = i\n",
    "            while i == j: # Esto es para que no haya auto enlaces en la red\n",
    "                j = random_state.randint(0,N)\n",
    "            ### Agregamos j a la lista de vecinos de i y viceversa\n",
    "            if random_state.random() < p:\n",
    "                neighbors_list[i].append(j)\n",
    "                neighbors_list[j].append(i)\n",
    "        self.neighbors_list = neighbors_list\n",
    "        # Inicializamos array de spines\n",
    "        self.spins = random_state.choice(a=[False,True],size=N)\n",
    "\n",
    "# Ahora implementamos la dinámica de Ising en otra clase\n",
    "class IsingExp(object):\n",
    "    \"\"\"\n",
    "    Clase para realizar simulación Montecarlo del Modelo de Ising\n",
    "    \"\"\"\n",
    "    def __init__(self,p,seed,N=10**5,T=10**6):\n",
    "        self.p = p\n",
    "        self.seed = seed\n",
    "        self.N = N\n",
    "        self.T = T\n",
    "        self.network = WS_1D(p,seed)\n",
    "        self.random_state = np.random.RandomState(self.seed)\n",
    "        self.flips = 0 # Esto es sólo para debug, lleva registro de los flips aceptados\n",
    "    # Funciones para la simulación\n",
    "    def __deltaE(self,i):\n",
    "        \"\"\"\n",
    "        Calcula el cambio de energía al flipear el spin del sitio i\n",
    "        \"\"\"\n",
    "        spin_i = self.network.spins[i]\n",
    "        neighbors_i = self.network.neighbors_list[i]\n",
    "        ## Energía inicial\n",
    "        E0 = sum(spin_i * self.network.spins[j] for j in neighbors_i)\n",
    "        ## Energía haciendo flip de spin_i\n",
    "        E = sum((not spin_i) * self.network.spins[j] for j in neighbors_i)\n",
    "        return E-E0\n",
    "    def __MCstep(self):\n",
    "        i = self.random_state.randint(0,self.N)\n",
    "        deltaE = self.__deltaE(i)\n",
    "        # ΔE <0 -> Aceptamos flip\n",
    "        if deltaE < 0:\n",
    "            self.network.spins[i] = not self.network.spins[i]\n",
    "            self.flips += 1\n",
    "        # ΔE = 0 se sortea\n",
    "        elif deltaE == 0:\n",
    "            if self.random_state.random() < 0.5:\n",
    "                self.network.spins[i] = not self.network.spins[i]\n",
    "                self.flips += 1\n",
    "    def run(self):\n",
    "        for t in range(self.T):\n",
    "            self.__MCstep()\n",
    "        return self.network.neighbors_list,self.network.spins"
   ]
  },
  {
   "cell_type": "code",
   "execution_count": 4,
   "id": "d2c23f8a-0842-46f7-9741-e15e2b94f8ab",
   "metadata": {},
   "outputs": [],
   "source": [
    "## Función main paralelizable\n",
    "def main(p,seed):\n",
    "    experiment = IsingExp(p,seed)\n",
    "    return experiment.run()"
   ]
  },
  {
   "cell_type": "code",
   "execution_count": 96,
   "id": "311cdb8e-41d2-4e1e-a7e0-aa2bc32dd981",
   "metadata": {},
   "outputs": [
    {
     "name": "stderr",
     "output_type": "stream",
     "text": [
      "100%|█████████████████████████████████████████████████████████████████████████████████| 256/256 [15:44<00:00,  3.69s/it]\n"
     ]
    }
   ],
   "source": [
    "# Vamos a hacer el experimento unas 256 veces\n",
    "runs = 256\n",
    "p = 0.01\n",
    "with ProcessPoolExecutor() as ppe:\n",
    "    results = list(tqdm(ppe.map(main,repeat(p,runs),range(runs)),total=runs))"
   ]
  },
  {
   "cell_type": "code",
   "execution_count": 97,
   "id": "f2cc11de-e976-4464-82e8-f95dd753e021",
   "metadata": {},
   "outputs": [],
   "source": [
    "with open('ising_p001_256runs','wb') as f:\n",
    "    pickle.dump(results,f)\n",
    "del(results) # Hay que hacer lugar en memoria para la siguiente simulación"
   ]
  },
  {
   "cell_type": "code",
   "execution_count": 5,
   "id": "20f62db6-c929-4785-83ec-f84b51c03ff2",
   "metadata": {},
   "outputs": [
    {
     "name": "stderr",
     "output_type": "stream",
     "text": [
      "100%|█████████████████████████████████████████████████████████████████████████████████| 256/256 [15:36<00:00,  3.66s/it]\n"
     ]
    }
   ],
   "source": [
    "runs = 256\n",
    "p = 0.02\n",
    "with ProcessPoolExecutor() as ppe:\n",
    "    results = list(tqdm(ppe.map(main,repeat(p,runs),range(runs)),total=runs))\n",
    "with open('ising_p002_256runs','wb') as f:\n",
    "    pickle.dump(results,f)\n",
    "del(results)"
   ]
  },
  {
   "cell_type": "code",
   "execution_count": 7,
   "id": "54ec227f-c4c6-4a93-a189-fb59c884eb51",
   "metadata": {},
   "outputs": [
    {
     "name": "stderr",
     "output_type": "stream",
     "text": [
      "100%|█████████████████████████████████████████████████████████████████████████████████| 256/256 [16:22<00:00,  3.84s/it]\n"
     ]
    }
   ],
   "source": [
    "runs = 256\n",
    "p = 0.04\n",
    "with ProcessPoolExecutor() as ppe:\n",
    "    results = list(tqdm(ppe.map(main,repeat(p,runs),range(runs)),total=runs))\n",
    "with open('ising_p004_256runs','wb') as f:\n",
    "    pickle.dump(results,f)\n",
    "del(results)    "
   ]
  },
  {
   "cell_type": "code",
   "execution_count": 9,
   "id": "afa6cda8-feed-473b-b00f-f47fc3e8dbee",
   "metadata": {},
   "outputs": [
    {
     "name": "stderr",
     "output_type": "stream",
     "text": [
      "100%|█████████████████████████████████████████████████████████████████████████████████| 256/256 [16:11<00:00,  3.80s/it]\n"
     ]
    }
   ],
   "source": [
    "runs = 256\n",
    "p = 0.06\n",
    "with ProcessPoolExecutor() as ppe:\n",
    "    results = list(tqdm(ppe.map(main,repeat(p,runs),range(runs)),total=runs))\n",
    "with open('ising_p006_256runs','wb') as f:\n",
    "    pickle.dump(results,f)\n",
    "del(results)    "
   ]
  },
  {
   "cell_type": "code",
   "execution_count": 10,
   "id": "14697a2a-4fe5-476b-b5cd-62451078b38f",
   "metadata": {},
   "outputs": [
    {
     "name": "stderr",
     "output_type": "stream",
     "text": [
      "100%|█████████████████████████████████████████████████████████████████████████████████| 256/256 [17:22<00:00,  4.07s/it]\n"
     ]
    }
   ],
   "source": [
    "runs = 256\n",
    "p = 0.10\n",
    "with ProcessPoolExecutor() as ppe:\n",
    "    results = list(tqdm(ppe.map(main,repeat(p,runs),range(runs)),total=runs))\n",
    "with open('ising_p010_256runs','wb') as f:\n",
    "    pickle.dump(results,f)\n",
    "del(results)    "
   ]
  }
 ],
 "metadata": {
  "kernelspec": {
   "display_name": "Python(FAMAF)",
   "language": "python",
   "name": "famaf"
  },
  "language_info": {
   "codemirror_mode": {
    "name": "ipython",
    "version": 3
   },
   "file_extension": ".py",
   "mimetype": "text/x-python",
   "name": "python",
   "nbconvert_exporter": "python",
   "pygments_lexer": "ipython3",
   "version": "3.10.11"
  }
 },
 "nbformat": 4,
 "nbformat_minor": 5
}
