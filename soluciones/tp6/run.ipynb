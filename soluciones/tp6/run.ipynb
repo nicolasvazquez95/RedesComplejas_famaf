{
 "cells": [
  {
   "cell_type": "code",
   "execution_count": null,
   "id": "5d4ed966-e786-44e5-88a5-03e5ffd3f20a",
   "metadata": {},
   "outputs": [],
   "source": [
    "using Random\n",
    "using DelimitedFiles: writedlm, readdlm\n",
    "using Statistics\n",
    "\n",
    "using ProgressBars\n",
    "using ProgressMeter"
   ]
  },
  {
   "cell_type": "code",
   "execution_count": null,
   "id": "19cd5cfa-a38b-40fd-9ef4-99b5e5924506",
   "metadata": {},
   "outputs": [],
   "source": [
    "function erdos_renyi(N::Int,p::Float64,seed::Int)\n",
    "    rng = MersenneTwister(seed)\n",
    "    nl = Dict{Int,Vector{Int32}}()\n",
    "    for i in 1:N \n",
    "        nl[i] = []\n",
    "    end\n",
    "    nodes = Int32.(collect(1:N))\n",
    "    @showprogress for i in 1:N\n",
    "        for j in i:N\n",
    "            if rand(rng) < p\n",
    "                push!(nl[i],j)\n",
    "                push!(nl[j],i)\n",
    "            end\n",
    "        end\n",
    "    end\n",
    "    nl\n",
    "end"
   ]
  },
  {
   "cell_type": "code",
   "execution_count": null,
   "id": "e4cf2369-2f68-41c3-89ef-2390494b723a",
   "metadata": {},
   "outputs": [],
   "source": [
    "function oscillators_a(seed1::Int,seed2::Int)\n",
    "    rng = MersenneTwister(seed1)\n",
    "\n",
    "    p = 0.02\n",
    "\n",
    "    N = 300\n",
    "    ϵ = 1e-2\n",
    "    δt = 1e-4\n",
    "\n",
    "    nl = erdos_renyi(N,p,seed2)\n",
    "\n",
    "    θ = zeros(N)\n",
    "    θ_0 = rand(rng,N)\n",
    "\n",
    "    θ .+= θ_0\n",
    "\n",
    "    T = 10^7\n",
    "\n",
    "    t1 = []\n",
    "    M = []\n",
    "\n",
    "    @showprogress for t in 1:T\n",
    "        θ .+= δt\n",
    "        idx_threshold = findall(θ .>= 1) # Índices i de los elementos de θ en los que que θ_i >= θ_thr\n",
    "        for i in idx_threshold\n",
    "            θ[nl[i]] += ϵ*θ[nl[i]]\n",
    "        end\n",
    "        θ[idx_threshold] .= 0\n",
    "        if 1 in idx_threshold\n",
    "            idx_upper = findall(θ .>= 0.5)\n",
    "            m_upper = mean(1 .- θ[idx_upper])\n",
    "            idx_lower = findall(θ .< 0.5)\n",
    "            m_lower = mean(θ[idx_lower])\n",
    "            push!(M,1 - (m_upper+m_lower))\n",
    "            push!(t1,δt*t)\n",
    "        end\n",
    "    end\n",
    "    data = hcat(t1,M)\n",
    "    fname = \"1a/osci_$(seed1)_$(seed2).txt\"\n",
    "    open(fname,\"w\") do io\n",
    "        writedlm(io,data)\n",
    "    end\n",
    "end"
   ]
  }
 ],
 "metadata": {
  "kernelspec": {
   "display_name": "Julia 1.9.0",
   "language": "julia",
   "name": "julia-1.9"
  },
  "language_info": {
   "file_extension": ".jl",
   "mimetype": "application/julia",
   "name": "julia",
   "version": "1.9.0"
  }
 },
 "nbformat": 4,
 "nbformat_minor": 5
}
